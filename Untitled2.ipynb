{
 "cells": [
  {
   "cell_type": "code",
   "execution_count": 4,
   "id": "c0dc23b4-9974-479c-b525-7b24db71b30a",
   "metadata": {},
   "outputs": [
    {
     "data": {
      "text/plain": [
       "list"
      ]
     },
     "execution_count": 4,
     "metadata": {},
     "output_type": "execute_result"
    }
   ],
   "source": [
    "x = [1, 3, True, False, 'Hello', [3,5,7]]\n",
    "type(x)"
   ]
  },
  {
   "cell_type": "code",
   "execution_count": 7,
   "id": "3a8a0fad-3b91-4806-8716-93bdf49afdbc",
   "metadata": {},
   "outputs": [
    {
     "data": {
      "text/plain": [
       "range(1, 5)"
      ]
     },
     "execution_count": 7,
     "metadata": {},
     "output_type": "execute_result"
    }
   ],
   "source": [
    "# A range.\n",
    "range(1,5)"
   ]
  },
  {
   "cell_type": "code",
   "execution_count": 10,
   "id": "d955e060-e0bb-430a-befb-03409f5b49f8",
   "metadata": {},
   "outputs": [
    {
     "data": {
      "text/plain": [
       "[1, 2, 3, 4]"
      ]
     },
     "execution_count": 10,
     "metadata": {},
     "output_type": "execute_result"
    }
   ],
   "source": [
    "# A range cast as list.\n",
    "x = list(range(1,5))\n",
    "x\n"
   ]
  },
  {
   "cell_type": "code",
   "execution_count": 13,
   "id": "3f41f743-f83a-4e91-8bc4-e97cab09fa68",
   "metadata": {},
   "outputs": [
    {
     "data": {
      "text/plain": [
       "[1, 3, 5, 7, 9]"
      ]
     },
     "execution_count": 13,
     "metadata": {},
     "output_type": "execute_result"
    }
   ],
   "source": [
    "list(range(1,10,2))\n"
   ]
  },
  {
   "cell_type": "code",
   "execution_count": 16,
   "id": "d5aafc17-011c-4659-8249-f6e78fce9b52",
   "metadata": {},
   "outputs": [
    {
     "data": {
      "text/plain": [
       "[0, 5, 10, 15, 20]"
      ]
     },
     "execution_count": 16,
     "metadata": {},
     "output_type": "execute_result"
    }
   ],
   "source": [
    "list(range(0,21,5))\n"
   ]
  },
  {
   "cell_type": "code",
   "execution_count": 19,
   "id": "ece4022a-0b25-41d3-bd31-5c12d3d631b9",
   "metadata": {},
   "outputs": [
    {
     "data": {
      "text/plain": [
       "2"
      ]
     },
     "execution_count": 19,
     "metadata": {},
     "output_type": "execute_result"
    }
   ],
   "source": [
    "x = [1, 2, ['Life', 'is']]\n",
    "x[1]"
   ]
  },
  {
   "cell_type": "code",
   "execution_count": 22,
   "id": "75318c4b-5a2b-470e-82a0-a58f0c4e23df",
   "metadata": {},
   "outputs": [
    {
     "data": {
      "text/plain": [
       "['Life', 'is']"
      ]
     },
     "execution_count": 22,
     "metadata": {},
     "output_type": "execute_result"
    }
   ],
   "source": [
    "x[2]"
   ]
  },
  {
   "cell_type": "code",
   "execution_count": 25,
   "id": "67bd3e64-39b4-44fb-b4ad-4b85cdc567cd",
   "metadata": {},
   "outputs": [
    {
     "data": {
      "text/plain": [
       "'is'"
      ]
     },
     "execution_count": 25,
     "metadata": {},
     "output_type": "execute_result"
    }
   ],
   "source": [
    "x[2][1]\n"
   ]
  },
  {
   "cell_type": "code",
   "execution_count": 28,
   "id": "cea33945-a58c-459a-baea-c707d9a4d10c",
   "metadata": {},
   "outputs": [
    {
     "data": {
      "text/plain": [
       "[3, ['a', 'b', 'c'], 4]"
      ]
     },
     "execution_count": 28,
     "metadata": {},
     "output_type": "execute_result"
    }
   ],
   "source": [
    "x = [1, 2, 3, ['a', 'b', 'c'], 4, 5]\n",
    "x[2:5]\n"
   ]
  },
  {
   "cell_type": "code",
   "execution_count": 31,
   "id": "c11cae89-543b-4486-8576-c98895540d6e",
   "metadata": {},
   "outputs": [
    {
     "data": {
      "text/plain": [
       "['a', 'b']"
      ]
     },
     "execution_count": 31,
     "metadata": {},
     "output_type": "execute_result"
    }
   ],
   "source": [
    "x[3][:2]\n"
   ]
  },
  {
   "cell_type": "code",
   "execution_count": 34,
   "id": "88affdac-78d8-4c23-a6c0-16cb625fc1b3",
   "metadata": {},
   "outputs": [
    {
     "data": {
      "text/plain": [
       "[1, 2, 3, 4, 5, 6]"
      ]
     },
     "execution_count": 34,
     "metadata": {},
     "output_type": "execute_result"
    }
   ],
   "source": [
    "a = [1, 2, 3]\n",
    "b = [4, 5, 6]\n",
    "a + b\n"
   ]
  },
  {
   "cell_type": "code",
   "execution_count": 37,
   "id": "2cdb11e6-2127-4fab-b5ee-4d366199d5f0",
   "metadata": {},
   "outputs": [
    {
     "data": {
      "text/plain": [
       "[1, 2, 3, 1, 2, 3, 1, 2, 3]"
      ]
     },
     "execution_count": 37,
     "metadata": {},
     "output_type": "execute_result"
    }
   ],
   "source": [
    "x = [1, 2, 3]\n",
    "x*3\n"
   ]
  },
  {
   "cell_type": "code",
   "execution_count": 42,
   "id": "271fe0d4-53b3-4f2c-94e3-b9fdd00e7a96",
   "metadata": {},
   "outputs": [
    {
     "data": {
      "text/plain": [
       "[1, -1, 3]"
      ]
     },
     "execution_count": 42,
     "metadata": {},
     "output_type": "execute_result"
    }
   ],
   "source": [
    "x = [1, 2, 3]\n",
    "x[1] = -1\n",
    "x"
   ]
  },
  {
   "cell_type": "code",
   "execution_count": 45,
   "id": "3a2a4660-f054-4d94-8216-f8383232fe84",
   "metadata": {},
   "outputs": [
    {
     "data": {
      "text/plain": [
       "[1, 3, 5, 7, 9, 11]"
      ]
     },
     "execution_count": 45,
     "metadata": {},
     "output_type": "execute_result"
    }
   ],
   "source": [
    "x[1:3] = [3, 5, 7, 9, 11]\n",
    "x\n"
   ]
  },
  {
   "cell_type": "code",
   "execution_count": 50,
   "id": "1245c781-a5fe-47d5-9551-b38618f00abb",
   "metadata": {},
   "outputs": [
    {
     "data": {
      "text/plain": [
       "2"
      ]
     },
     "execution_count": 50,
     "metadata": {},
     "output_type": "execute_result"
    }
   ],
   "source": [
    " # Replace part of a list.\n",
    "x = [1, 2, 3]\n",
    "x[1]"
   ]
  },
  {
   "cell_type": "code",
   "execution_count": 53,
   "id": "4a6020e6-03a3-4c02-9f30-7ed4c681764f",
   "metadata": {},
   "outputs": [
    {
     "data": {
      "text/plain": [
       "[1, [-1, -2, -3], 3]"
      ]
     },
     "execution_count": 53,
     "metadata": {},
     "output_type": "execute_result"
    }
   ],
   "source": [
    "# List a particular element of the list.\n",
    "x = [1, 2, 3]\n",
    "x[1] = [-1, -2, -3]\n",
    "x\n"
   ]
  },
  {
   "cell_type": "code",
   "execution_count": 58,
   "id": "469b9376-bc27-4ec6-90e0-9f0d36f9dcc7",
   "metadata": {},
   "outputs": [
    {
     "data": {
      "text/plain": [
       "[1, 4, 5]"
      ]
     },
     "execution_count": 58,
     "metadata": {},
     "output_type": "execute_result"
    }
   ],
   "source": [
    "x = [1, 2, 3, 4, 5]\n",
    "x[1:3] = []\n",
    "x\n"
   ]
  },
  {
   "cell_type": "code",
   "execution_count": 61,
   "id": "d55063ec-679f-43bb-951e-de22a51af80a",
   "metadata": {},
   "outputs": [
    {
     "data": {
      "text/plain": [
       "[1, 2, 4, 5]"
      ]
     },
     "execution_count": 61,
     "metadata": {},
     "output_type": "execute_result"
    }
   ],
   "source": [
    "x = [1, 2, 3, 4, 5]\n",
    "del x[2]\n",
    "x\n"
   ]
  },
  {
   "cell_type": "code",
   "execution_count": 64,
   "id": "4e095897-2dda-4245-a726-49e648732a7c",
   "metadata": {},
   "outputs": [
    {
     "data": {
      "text/plain": [
       "5"
      ]
     },
     "execution_count": 64,
     "metadata": {},
     "output_type": "execute_result"
    }
   ],
   "source": [
    "x = [2,4,6,8,10]\n",
    "len(x)"
   ]
  },
  {
   "cell_type": "code",
   "execution_count": 67,
   "id": "bbc9dc0a-8796-4c8b-a063-7645773fd896",
   "metadata": {},
   "outputs": [
    {
     "data": {
      "text/plain": [
       "[1, 2, 3, 4, [5, 6]]"
      ]
     },
     "execution_count": 67,
     "metadata": {},
     "output_type": "execute_result"
    }
   ],
   "source": [
    "x = [1, 2, 3]\n",
    "x.append(4)\n",
    "x.append([5,6])\n",
    "x\n"
   ]
  },
  {
   "cell_type": "code",
   "execution_count": 70,
   "id": "ee26fa2f-ed7b-41c8-94b4-dfead5e9b547",
   "metadata": {},
   "outputs": [
    {
     "data": {
      "text/plain": [
       "[5, 4, 3, 2, 1]"
      ]
     },
     "execution_count": 70,
     "metadata": {},
     "output_type": "execute_result"
    }
   ],
   "source": [
    "x = [1, 2, 3, 4, 5]\n",
    "x.reverse()\n",
    "x"
   ]
  },
  {
   "cell_type": "code",
   "execution_count": 73,
   "id": "d5492dfc-ffd5-421c-ac35-2328770f31c8",
   "metadata": {},
   "outputs": [
    {
     "data": {
      "text/plain": [
       "[1, 2, 3, 4, 5]"
      ]
     },
     "execution_count": 73,
     "metadata": {},
     "output_type": "execute_result"
    }
   ],
   "source": [
    "# The sort() method changes the list permanently.\n",
    "x = [3, 1, 5, 2, 4]\n",
    "x.sort()\n",
    "x\n"
   ]
  },
  {
   "cell_type": "code",
   "execution_count": 76,
   "id": "f38776b6-b185-4fc2-a6f2-be88066bbf6f",
   "metadata": {},
   "outputs": [
    {
     "data": {
      "text/plain": [
       "[5, 4, 3, 2, 1]"
      ]
     },
     "execution_count": 76,
     "metadata": {},
     "output_type": "execute_result"
    }
   ],
   "source": [
    "x = [3, 1, 5, 2, 4]\n",
    "x.sort(reverse=True)\n",
    "x"
   ]
  },
  {
   "cell_type": "code",
   "execution_count": 83,
   "id": "995a3eb2-052a-4fdc-90ab-80fbba2f0517",
   "metadata": {},
   "outputs": [
    {
     "data": {
      "text/plain": [
       "[1, 2, 3, 4, 5]"
      ]
     },
     "execution_count": 83,
     "metadata": {},
     "output_type": "execute_result"
    }
   ],
   "source": [
    "# The function sorted() just returns a view without changing the list␣\n",
    "\n",
    "x = [3, 1, 5, 2, 4]\n",
    "sorted(x)"
   ]
  },
  {
   "cell_type": "code",
   "execution_count": 86,
   "id": "5e970739-93f2-4a97-a1ad-50cf2722f787",
   "metadata": {},
   "outputs": [
    {
     "data": {
      "text/plain": [
       "[3, 1, 5, 2, 4]"
      ]
     },
     "execution_count": 86,
     "metadata": {},
     "output_type": "execute_result"
    }
   ],
   "source": [
    "# We can verify that 'x' is the same as before.\n",
    "x"
   ]
  },
  {
   "cell_type": "code",
   "execution_count": 89,
   "id": "0bc7ffb7-f354-404b-8195-d2fe651cca24",
   "metadata": {},
   "outputs": [
    {
     "data": {
      "text/plain": [
       "tuple"
      ]
     },
     "execution_count": 89,
     "metadata": {},
     "output_type": "execute_result"
    }
   ],
   "source": [
    "x = (1, 3, True, False, 'Hello', [3,5,7])\n",
    "type(x)"
   ]
  },
  {
   "cell_type": "code",
   "execution_count": 92,
   "id": "1a9bb37a-2e9b-435a-b39e-3d4baedd08de",
   "metadata": {},
   "outputs": [
    {
     "data": {
      "text/plain": [
       "(1, 2, 3, 4)"
      ]
     },
     "execution_count": 92,
     "metadata": {},
     "output_type": "execute_result"
    }
   ],
   "source": [
    "# A range cast as tuple.\n",
    "x = tuple(range(1,5))\n",
    "x"
   ]
  },
  {
   "cell_type": "code",
   "execution_count": 95,
   "id": "6cb38240-fbfc-470f-8941-757b600e86f9",
   "metadata": {},
   "outputs": [
    {
     "data": {
      "text/plain": [
       "('Life', 'is')"
      ]
     },
     "execution_count": 95,
     "metadata": {},
     "output_type": "execute_result"
    }
   ],
   "source": [
    "x = (1, 2, ('Life', 'is'))\n",
    "x[2]"
   ]
  },
  {
   "cell_type": "code",
   "execution_count": 98,
   "id": "8c5fbdc1-42bb-49d0-80ed-9872bc256e20",
   "metadata": {},
   "outputs": [
    {
     "data": {
      "text/plain": [
       "'is'"
      ]
     },
     "execution_count": 98,
     "metadata": {},
     "output_type": "execute_result"
    }
   ],
   "source": [
    " x[2][1]"
   ]
  },
  {
   "cell_type": "code",
   "execution_count": 1,
   "id": "572cd12c-8542-4804-98f9-87f9c4cfa34c",
   "metadata": {},
   "outputs": [
    {
     "data": {
      "text/plain": [
       "['a', 'b']"
      ]
     },
     "execution_count": 1,
     "metadata": {},
     "output_type": "execute_result"
    }
   ],
   "source": [
    "x = (1, 2, 3, ['a', 'b', 'c'], 4, 5)\n",
    "x[3][:2]\n"
   ]
  },
  {
   "cell_type": "code",
   "execution_count": 3,
   "id": "240bdcd9-941c-4f86-b893-4dbe9934ebc3",
   "metadata": {},
   "outputs": [
    {
     "data": {
      "text/plain": [
       "(1, 2, 3, 4, 5, 6)"
      ]
     },
     "execution_count": 3,
     "metadata": {},
     "output_type": "execute_result"
    }
   ],
   "source": [
    "a = (1, 2, 3)\n",
    "b = (4, 5, 6)\n",
    "a + b"
   ]
  },
  {
   "cell_type": "code",
   "execution_count": 5,
   "id": "76c9c3aa-9cc8-4270-af90-ab08aa4e3f78",
   "metadata": {},
   "outputs": [
    {
     "data": {
      "text/plain": [
       "(1, 2, 3, 1, 2, 3, 1, 2, 3)"
      ]
     },
     "execution_count": 5,
     "metadata": {},
     "output_type": "execute_result"
    }
   ],
   "source": [
    "a * 3\n"
   ]
  },
  {
   "cell_type": "code",
   "execution_count": 7,
   "id": "56f9c1fc-9629-40e3-863d-6c0b6147833b",
   "metadata": {},
   "outputs": [],
   "source": [
    "d = {'x':[1,2,3], 'y':[4,5,6]}"
   ]
  },
  {
   "cell_type": "code",
   "execution_count": 9,
   "id": "21dae1ab-9888-4fc2-823a-dcdd7e9111dd",
   "metadata": {},
   "outputs": [
    {
     "data": {
      "text/plain": [
       "[1, 2, 3]"
      ]
     },
     "execution_count": 9,
     "metadata": {},
     "output_type": "execute_result"
    }
   ],
   "source": [
    " d['x']\n"
   ]
  },
  {
   "cell_type": "code",
   "execution_count": 11,
   "id": "514bf8b0-7935-4284-bf21-23ccc0764a53",
   "metadata": {},
   "outputs": [
    {
     "data": {
      "text/plain": [
       "[4, 5, 6]"
      ]
     },
     "execution_count": 11,
     "metadata": {},
     "output_type": "execute_result"
    }
   ],
   "source": [
    "d['y']"
   ]
  },
  {
   "cell_type": "code",
   "execution_count": 13,
   "id": "5fdf958b-ba80-4185-ab6f-57b11b0e0a4e",
   "metadata": {},
   "outputs": [
    {
     "data": {
      "text/plain": [
       "{'name': 'John', 'gender': 'Male', 'age': 23}"
      ]
     },
     "execution_count": 13,
     "metadata": {},
     "output_type": "execute_result"
    }
   ],
   "source": [
    "d = {}\n",
    "d['name'] = 'John'\n",
    "d['gender'] = 'Male'\n",
    "d['age'] = 23\n",
    "d\n"
   ]
  },
  {
   "cell_type": "code",
   "execution_count": 15,
   "id": "fd71a9f8-221c-4b2e-a01a-e180ed17da6f",
   "metadata": {},
   "outputs": [
    {
     "data": {
      "text/plain": [
       "{'name': 'John', 'gender': 'Male'}"
      ]
     },
     "execution_count": 15,
     "metadata": {},
     "output_type": "execute_result"
    }
   ],
   "source": [
    "del d['age']\n",
    "d"
   ]
  },
  {
   "cell_type": "code",
   "execution_count": 17,
   "id": "d5bc98d4-2cb8-44ee-9273-23442160c674",
   "metadata": {},
   "outputs": [
    {
     "data": {
      "text/plain": [
       "{'name': 'Andrew', 'gender': 'Male'}"
      ]
     },
     "execution_count": 17,
     "metadata": {},
     "output_type": "execute_result"
    }
   ],
   "source": [
    "d['name'] = 'Andrew'\n",
    "d"
   ]
  },
  {
   "cell_type": "code",
   "execution_count": 19,
   "id": "22545f33-00ef-4e41-b0bd-f61c350f17de",
   "metadata": {},
   "outputs": [
    {
     "data": {
      "text/plain": [
       "dict_keys(['name', 'gender'])"
      ]
     },
     "execution_count": 19,
     "metadata": {},
     "output_type": "execute_result"
    }
   ],
   "source": [
    "d.keys()"
   ]
  },
  {
   "cell_type": "code",
   "execution_count": 21,
   "id": "8038d8bd-e60e-4acb-bb69-afb9a9d87f68",
   "metadata": {},
   "outputs": [
    {
     "data": {
      "text/plain": [
       "dict_values(['Andrew', 'Male'])"
      ]
     },
     "execution_count": 21,
     "metadata": {},
     "output_type": "execute_result"
    }
   ],
   "source": [
    "d.values()"
   ]
  },
  {
   "cell_type": "code",
   "execution_count": 23,
   "id": "854a9135-2064-42d5-ba31-6e9abda2678c",
   "metadata": {},
   "outputs": [
    {
     "data": {
      "text/plain": [
       "dict_items([('name', 'Andrew'), ('gender', 'Male')])"
      ]
     },
     "execution_count": 23,
     "metadata": {},
     "output_type": "execute_result"
    }
   ],
   "source": [
    "d.items()"
   ]
  },
  {
   "cell_type": "code",
   "execution_count": 25,
   "id": "ebc9267a-6142-4dda-ab70-d8c767899cd9",
   "metadata": {},
   "outputs": [
    {
     "data": {
      "text/plain": [
       "{}"
      ]
     },
     "execution_count": 25,
     "metadata": {},
     "output_type": "execute_result"
    }
   ],
   "source": [
    "d.clear()\n",
    "d"
   ]
  },
  {
   "cell_type": "code",
   "execution_count": 27,
   "id": "81c514d7-df62-4ca6-a671-8e18fd0a87db",
   "metadata": {},
   "outputs": [
    {
     "data": {
      "text/plain": [
       "0"
      ]
     },
     "execution_count": 27,
     "metadata": {},
     "output_type": "execute_result"
    }
   ],
   "source": [
    "d = {'name': 'John', 'gender': 'Male', 'age': 23}\n",
    "d.get('wage', 0)"
   ]
  },
  {
   "cell_type": "code",
   "execution_count": null,
   "id": "0b33feb2-fa3a-42d0-8124-da8608c9f041",
   "metadata": {},
   "outputs": [],
   "source": [
    "# Check whether 'name' is a key of d.\n",
    "'name' in d"
   ]
  }
 ],
 "metadata": {
  "kernelspec": {
   "display_name": "Python 3 (ipykernel)",
   "language": "python",
   "name": "python3"
  },
  "language_info": {
   "codemirror_mode": {
    "name": "ipython",
    "version": 3
   },
   "file_extension": ".py",
   "mimetype": "text/x-python",
   "name": "python",
   "nbconvert_exporter": "python",
   "pygments_lexer": "ipython3",
   "version": "3.12.4"
  }
 },
 "nbformat": 4,
 "nbformat_minor": 5
}
